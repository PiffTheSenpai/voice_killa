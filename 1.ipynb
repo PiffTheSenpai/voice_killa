{
 "cells": [
  {
   "cell_type": "code",
   "execution_count": null,
   "metadata": {},
   "outputs": [],
   "source": [
    "# Jezevčík Kazma\n",
    "!tts --model_name tts_models/cs/cv/vits --progress_bar True --out_path \"./Jezevcik_Kazma.wav\" --text \"Čau já jsem Kazma. V dnešním díle jsme skupinově znásilnili patnáctiletou dívku. Pronajali jsme dodávku a jeden prázdnej sklad. A to není všechno. Celý znásilnění jsme pro vás strímovali na kanále Jaromíra Jágra, který nám on osobně založil. V průběhu strímu jste mohli přispívat s požadavkem na to, co máme tej chuděrce udělat. Samozřejmě jsme tím naštvali pár feministek, bojovníků za lidský práva a jednoho policistu, ale nikdo se nezamyslel nad tím, že to VY jste chtěli, abysme jí típali cíga o bradavky a do zadku strkali střepy. My jsme jen chtěli upozornit na problém ketkólingu. Veškerý vydělek putoval na charitu pro jezevčíky.\" "
   ]
  },
  {
   "cell_type": "code",
   "execution_count": 12,
   "metadata": {},
   "outputs": [
    {
     "name": "stdout",
     "output_type": "stream",
     "text": [
      " > tts_models/cs/cv/vits is already downloaded.\n",
      " > Using model: vits\n",
      " > Setting up Audio Processor...\n",
      " | > sample_rate:22050\n",
      " | > resample:False\n",
      " | > num_mels:80\n",
      " | > log_func:np.log10\n",
      " | > min_level_db:0\n",
      " | > frame_shift_ms:None\n",
      " | > frame_length_ms:None\n",
      " | > ref_level_db:None\n",
      " | > fft_size:1024\n",
      " | > power:None\n",
      " | > preemphasis:0.0\n",
      " | > griffin_lim_iters:None\n",
      " | > signal_norm:None\n",
      " | > symmetric_norm:None\n",
      " | > mel_fmin:0\n",
      " | > mel_fmax:None\n",
      " | > pitch_fmin:None\n",
      " | > pitch_fmax:None\n",
      " | > spec_gain:20.0\n",
      " | > stft_pad_mode:reflect\n",
      " | > max_norm:1.0\n",
      " | > clip_norm:True\n",
      " | > do_trim_silence:False\n",
      " | > trim_db:60\n",
      " | > do_sound_norm:False\n",
      " | > do_amp_to_db_linear:True\n",
      " | > do_amp_to_db_mel:True\n",
      " | > do_rms_norm:False\n",
      " | > db_level:None\n",
      " | > stats_path:None\n",
      " | > base:10\n",
      " | > hop_length:256\n",
      " | > win_length:1024\n",
      " > initialization of speaker-embedding layers.\n",
      " > initialization of language-embedding layers.\n",
      "/Users/asuka/Documents/projects/voice_killa/.env/lib/python3.11/site-packages/torch/nn/utils/weight_norm.py:30: UserWarning: torch.nn.utils.weight_norm is deprecated in favor of torch.nn.utils.parametrizations.weight_norm.\n",
      "  warnings.warn(\"torch.nn.utils.weight_norm is deprecated in favor of torch.nn.utils.parametrizations.weight_norm.\")\n",
      " > Text: Mám Kavasaki pávr, koule plný lávy. Avokádo freš šit, dostaneš najebánys. Uvidíš kdo je hárdest, ryba in de hůůd, gravitační emitor ti jistě zvedne můůd.\n",
      " > Text splitted to sentences.\n",
      "['Mám Kavasaki pávr, koule plný lávy.', 'Avokádo freš šit, dostaneš najebánys.', 'Uvidíš kdo je hárdest, ryba in de hůůd, gravitační emitor ti jistě zvedne můůd.']\n",
      " > Processing time: 0.8206298351287842\n",
      " > Real-time factor: 0.0684789882856104\n",
      " > Saving output to ./avokado.wav\n"
     ]
    }
   ],
   "source": [
    "# Avokado fresh\n",
    "!tts --model_name tts_models/cs/cv/vits --progress_bar True --out_path \"./avokado.wav\" --text \"Mám Kavasaki pávr, koule plný lávy. Avokádo freš šit, dostaneš najebánys. Uvidíš kdo je hárdest, ryba in de hůůd, gravitační emitor ti jistě zvedne můůd.\""
   ]
  }
 ],
 "metadata": {
  "kernelspec": {
   "display_name": ".env",
   "language": "python",
   "name": "python3"
  },
  "language_info": {
   "codemirror_mode": {
    "name": "ipython",
    "version": 3
   },
   "file_extension": ".py",
   "mimetype": "text/x-python",
   "name": "python",
   "nbconvert_exporter": "python",
   "pygments_lexer": "ipython3",
   "version": "3.11.6"
  }
 },
 "nbformat": 4,
 "nbformat_minor": 2
}
